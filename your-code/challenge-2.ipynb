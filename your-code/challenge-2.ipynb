{
  "cells": [
    {
      "cell_type": "markdown",
      "metadata": {
        "id": "LMUOhGElihdg"
      },
      "source": [
        "## Challenge 2: Sets\n",
        "\n",
        "There are a lot to learn about Python Sets and the information presented in the lesson is limited due to its length. To learn Python Sets in depth you are strongly encouraged to review the W3Schools tutorial on [Python Sets Examples and Methods](https://www.w3schools.com/python/python_sets.asp) before you work on this lab. Some difficult questions in this lab have their solutions in the W3Schools tutorial.\n",
        "\n",
        "#### First, import the Python `random` libary"
      ]
    },
    {
      "cell_type": "code",
      "execution_count": 1,
      "metadata": {
        "id": "vLVxWyzFihdk"
      },
      "outputs": [],
      "source": [
        "import random"
      ]
    },
    {
      "cell_type": "markdown",
      "metadata": {
        "id": "lb5R3bNIihdl"
      },
      "source": [
        "#### 1 - In the cell below, create a list named `sample_list_1` with 80 random values.\n",
        "\n",
        "Requirements:\n",
        "\n",
        "* Each value is an integer falling between 0 and 100.\n",
        "* Each value in the list is unique.\n",
        "\n",
        "Print `sample_list_1` to review its values\n",
        "\n",
        "*Hint: use `random.sample` ([reference](https://docs.python.org/3/library/random.html#random.sample)).*"
      ]
    },
    {
      "cell_type": "code",
      "execution_count": 2,
      "metadata": {
        "colab": {
          "base_uri": "https://localhost:8080/"
        },
        "id": "33gSFsrDihdl",
        "outputId": "d1d1e90f-bc3d-4a92-8e5c-82850e55bf19"
      },
      "outputs": [
        {
          "output_type": "stream",
          "name": "stdout",
          "text": [
            "[65, 72, 96, 60, 40, 1, 88, 37, 32, 15, 87, 18, 44, 34, 97, 48, 39, 94, 36, 79, 51, 81, 100, 28, 31, 92, 14, 7, 55, 61, 13, 89, 91, 95, 53, 10, 8, 21, 17, 77, 82, 74, 73, 99, 0, 86, 9, 43, 47, 98, 22, 45, 11, 2, 54, 75, 76, 33, 12, 24, 66, 16, 3, 19, 29, 5, 38, 27, 41, 71, 70, 23, 85, 90, 46, 42, 4, 58, 56, 6]\n"
          ]
        }
      ],
      "source": [
        "# Your code here\n",
        "sample_list_1 = random.sample(range(101), 80)\n",
        "print(sample_list_1)"
      ]
    },
    {
      "cell_type": "markdown",
      "metadata": {
        "id": "0Xq_TkwSihdm"
      },
      "source": [
        "#### 2 - Convert `sample_list_1` to a set called `set1`. Print the length of the set. Is its length still 80?"
      ]
    },
    {
      "cell_type": "code",
      "execution_count": 3,
      "metadata": {
        "colab": {
          "base_uri": "https://localhost:8080/"
        },
        "id": "vfoCgnPiihdm",
        "outputId": "75bbc5de-42a6-4797-c3b3-8e05deb6cd38"
      },
      "outputs": [
        {
          "output_type": "stream",
          "name": "stdout",
          "text": [
            "80\n"
          ]
        }
      ],
      "source": [
        "# Your code here\n",
        "set1 = set(sample_list_1)\n",
        "\n",
        "print(len(set1))"
      ]
    },
    {
      "cell_type": "markdown",
      "metadata": {
        "id": "yBQud-mgihdn"
      },
      "source": [
        "#### 3 - Create another list named `sample_list_2` with 80 random values.\n",
        "\n",
        "Requirements:\n",
        "\n",
        "* Each value is an integer falling between 0 and 100.\n",
        "* The values in the list don't have to be unique.\n",
        "\n",
        "*Hint: Use a FOR loop.*"
      ]
    },
    {
      "cell_type": "code",
      "execution_count": 4,
      "metadata": {
        "colab": {
          "base_uri": "https://localhost:8080/"
        },
        "id": "bOPIg3Usihdn",
        "outputId": "f138e320-b505-4ee0-b18a-b53a73774d29"
      },
      "outputs": [
        {
          "output_type": "stream",
          "name": "stdout",
          "text": [
            "[53, 86, 83, 86, 69, 72, 26, 72, 80, 10, 24, 68, 14, 35, 16, 33, 15, 19, 55, 91, 91, 94, 27, 71, 69, 99, 38, 10, 51, 24, 18, 73, 83, 37, 81, 58, 47, 100, 77, 31, 62, 92, 39, 24, 45, 39, 28, 32, 12, 25, 27, 90, 65, 71, 30, 88, 17, 28, 24, 93, 18, 14, 51, 32, 15, 20, 92, 44, 38, 24, 44, 81, 25, 64, 17, 0, 59, 17, 75, 92]\n"
          ]
        }
      ],
      "source": [
        "# Your code here\n",
        "sample_list_2 = []\n",
        "\n",
        "for numbers in range(80):\n",
        "    random_value = random.randint(0, 100)\n",
        "    sample_list_2.append(random_value)\n",
        "\n",
        "print(sample_list_2)"
      ]
    },
    {
      "cell_type": "markdown",
      "metadata": {
        "id": "ZMvVucacihdo"
      },
      "source": [
        "#### 4 - Convert `sample_list_2` to a set called `set2`. Print the length of the set. Is its length still 80?"
      ]
    },
    {
      "cell_type": "code",
      "execution_count": 5,
      "metadata": {
        "colab": {
          "base_uri": "https://localhost:8080/"
        },
        "id": "LO79Cz51ihdo",
        "outputId": "78113181-3dd6-4a41-b679-98c5a7a1ea09"
      },
      "outputs": [
        {
          "output_type": "stream",
          "name": "stdout",
          "text": [
            "53\n"
          ]
        }
      ],
      "source": [
        "# Your code here\n",
        "set2 = set(sample_list_2)\n",
        "print(len(set2))\n",
        "\n",
        "# The lenght of the set is not 80 due the fact that this time I added random values that could be the same. So once I convert it to a set it removes the elements that have the same value."
      ]
    },
    {
      "cell_type": "markdown",
      "metadata": {
        "id": "v3ZvFuL0ihdo"
      },
      "source": [
        "#### 5 - Identify the elements present in `set1` but not in `set2`. Assign the elements to a new set named `set3`."
      ]
    },
    {
      "cell_type": "code",
      "execution_count": 6,
      "metadata": {
        "colab": {
          "base_uri": "https://localhost:8080/"
        },
        "id": "-S6r6ikPihdo",
        "outputId": "a8d542a3-ad28-4375-8dfe-ea738d1f6ad3"
      },
      "outputs": [
        {
          "output_type": "stream",
          "name": "stdout",
          "text": [
            "{1, 2, 3, 4, 5, 6, 7, 8, 9, 11, 13, 21, 22, 23, 29, 34, 36, 40, 41, 42, 43, 46, 48, 54, 56, 60, 61, 66, 70, 74, 76, 79, 82, 85, 87, 89, 95, 96, 97, 98}\n"
          ]
        }
      ],
      "source": [
        "# Your code here\n",
        "set3 = set1 - set2\n",
        "print(set3)"
      ]
    },
    {
      "cell_type": "markdown",
      "metadata": {
        "id": "Y6gzC2tnihdp"
      },
      "source": [
        "#### 6 - Identify the elements present in `set2` but not in `set1`. Assign the elements to a new set named `set4`."
      ]
    },
    {
      "cell_type": "code",
      "execution_count": 7,
      "metadata": {
        "colab": {
          "base_uri": "https://localhost:8080/"
        },
        "id": "Xek3ixYdihdp",
        "outputId": "042aef27-dd16-4862-8f87-2cb33d2042e8"
      },
      "outputs": [
        {
          "output_type": "stream",
          "name": "stdout",
          "text": [
            "{0, 1, 2, 3, 4, 5, 6, 7, 8, 9, 10, 11, 12, 13, 14, 15, 16, 17, 18, 19, 21, 22, 23, 24, 27, 28, 29, 31, 32, 33, 34, 36, 37, 38, 39, 40, 41, 42, 43, 44, 45, 46, 47, 48, 51, 53, 54, 55, 56, 58, 60, 61, 65, 66, 70, 71, 72, 73, 74, 75, 76, 77, 79, 81, 82, 85, 86, 87, 88, 89, 90, 91, 92, 94, 95, 96, 97, 98, 99, 100}\n",
            "{0, 10, 12, 14, 15, 16, 17, 18, 19, 20, 24, 25, 26, 27, 28, 30, 31, 32, 33, 35, 37, 38, 39, 44, 45, 47, 51, 53, 55, 58, 59, 62, 64, 65, 68, 69, 71, 72, 73, 75, 77, 80, 81, 83, 86, 88, 90, 91, 92, 93, 94, 99, 100}\n",
            "{64, 35, 68, 69, 80, 83, 20, 62, 25, 26, 59, 93, 30}\n"
          ]
        }
      ],
      "source": [
        "# Your code here\n",
        "print(set1)\n",
        "print(set2)\n",
        "set4 = set2 - set1\n",
        "print(set4)"
      ]
    },
    {
      "cell_type": "markdown",
      "metadata": {
        "id": "aRlNvYvZihdp"
      },
      "source": [
        "#### 7 - Now Identify the elements shared between `set1` and `set2`. Assign the elements to a new set named `set5`."
      ]
    },
    {
      "cell_type": "code",
      "execution_count": 8,
      "metadata": {
        "colab": {
          "base_uri": "https://localhost:8080/"
        },
        "id": "9p-eo-vbihdp",
        "outputId": "7b4be3c5-5d5e-4f15-82d6-aceacd9cb276"
      },
      "outputs": [
        {
          "output_type": "stream",
          "name": "stdout",
          "text": [
            "{0, 10, 12, 14, 15, 16, 17, 18, 19, 24, 27, 28, 31, 32, 33, 37, 38, 39, 44, 45, 47, 51, 53, 55, 58, 65, 71, 72, 73, 75, 77, 81, 86, 88, 90, 91, 92, 94, 99, 100}\n"
          ]
        }
      ],
      "source": [
        "set1 = set(sample_list_1)\n",
        "set2 = set(sample_list_2)\n",
        "\n",
        "set5 = set1 & set2\n",
        "\n",
        "print(set5)"
      ]
    },
    {
      "cell_type": "markdown",
      "metadata": {
        "id": "E5Zr4fwqihdp"
      },
      "source": [
        "#### 8 - Create an empty set called `set6`."
      ]
    },
    {
      "cell_type": "code",
      "execution_count": 9,
      "metadata": {
        "id": "2DxVC68-ihdp"
      },
      "outputs": [],
      "source": [
        "# Your code here\n",
        "set6 = set()"
      ]
    },
    {
      "cell_type": "markdown",
      "metadata": {
        "id": "zClw1hhgihdq"
      },
      "source": [
        "#### 9 - Add `set3` and `set5` to `set6` using the Python Set `update` method."
      ]
    },
    {
      "cell_type": "code",
      "execution_count": 10,
      "metadata": {
        "colab": {
          "base_uri": "https://localhost:8080/"
        },
        "id": "grJdvCORihdq",
        "outputId": "4d527e5c-732a-4ff5-fb24-7eb81a0e0b67"
      },
      "outputs": [
        {
          "output_type": "stream",
          "name": "stdout",
          "text": [
            "{0, 1, 2, 3, 4, 5, 6, 7, 8, 9, 10, 11, 12, 13, 14, 15, 16, 17, 18, 19, 21, 22, 23, 24, 27, 28, 29, 31, 32, 33, 34, 36, 37, 38, 39, 40, 41, 42, 43, 44, 45, 46, 47, 48, 51, 53, 54, 55, 56, 58, 60, 61, 65, 66, 70, 71, 72, 73, 74, 75, 76, 77, 79, 81, 82, 85, 86, 87, 88, 89, 90, 91, 92, 94, 95, 96, 97, 98, 99, 100}\n"
          ]
        }
      ],
      "source": [
        "set6 = set()\n",
        "\n",
        "set6.update(set3)\n",
        "set6.update(set5)\n",
        "\n",
        "print(set6)"
      ]
    },
    {
      "cell_type": "markdown",
      "metadata": {
        "id": "RZYQwZFuihdq"
      },
      "source": [
        "#### 10 - Check if `set1` and `set6` are equal."
      ]
    },
    {
      "cell_type": "code",
      "execution_count": 11,
      "metadata": {
        "colab": {
          "base_uri": "https://localhost:8080/"
        },
        "id": "OdxLbBKeihdq",
        "outputId": "a56bcc0e-eb70-45fa-f94f-c6d66180c4f8"
      },
      "outputs": [
        {
          "output_type": "execute_result",
          "data": {
            "text/plain": [
              "True"
            ]
          },
          "metadata": {},
          "execution_count": 11
        }
      ],
      "source": [
        "# Your code here\n",
        "set1 == set6"
      ]
    },
    {
      "cell_type": "markdown",
      "metadata": {
        "id": "d_WwIvr_ihdq"
      },
      "source": [
        "#### 11 - Check if `set1` contains `set2` using the Python Set `issubset` method. Then check if `set1` contains `set3`.*"
      ]
    },
    {
      "cell_type": "code",
      "execution_count": 12,
      "metadata": {
        "colab": {
          "base_uri": "https://localhost:8080/"
        },
        "id": "B-cHr-Iwihdq",
        "outputId": "66f58833-fb13-47ba-8686-621a0c81c9a6"
      },
      "outputs": [
        {
          "output_type": "stream",
          "name": "stdout",
          "text": [
            "False\n",
            "True\n"
          ]
        },
        {
          "output_type": "execute_result",
          "data": {
            "text/plain": [
              "False"
            ]
          },
          "metadata": {},
          "execution_count": 12
        }
      ],
      "source": [
        "# Your code here\n",
        "issbs = set1.issubset(set2)\n",
        "isu_set = set1.issubset(set6)\n",
        "\n",
        "print(issbs)\n",
        "print(isu_set)\n",
        "\n",
        "issbs == isu_set"
      ]
    },
    {
      "cell_type": "markdown",
      "metadata": {
        "id": "s8zPD83Nihdq"
      },
      "source": [
        "#### 12 -Using the Python Set `union` method, aggregate `set3`, `set4`, and `set5`. Then aggregate `set1` and `set2`.\n",
        "\n",
        "#### Check if the aggregated values are equal."
      ]
    },
    {
      "cell_type": "code",
      "execution_count": 13,
      "metadata": {
        "colab": {
          "base_uri": "https://localhost:8080/"
        },
        "id": "thpw6yQQihdr",
        "outputId": "9a1d14ec-8809-4b74-c2c4-dc860907ff89"
      },
      "outputs": [
        {
          "output_type": "stream",
          "name": "stdout",
          "text": [
            "{0, 1, 2, 3, 4, 5, 6, 7, 8, 9, 10, 11, 12, 13, 14, 15, 16, 17, 18, 19, 20, 21, 22, 23, 24, 25, 26, 27, 28, 29, 30, 31, 32, 33, 34, 35, 36, 37, 38, 39, 40, 41, 42, 43, 44, 45, 46, 47, 48, 51, 53, 54, 55, 56, 58, 59, 60, 61, 62, 64, 65, 66, 68, 69, 70, 71, 72, 73, 74, 75, 76, 77, 79, 80, 81, 82, 83, 85, 86, 87, 88, 89, 90, 91, 92, 93, 94, 95, 96, 97, 98, 99, 100}\n",
            "{0, 1, 2, 3, 4, 5, 6, 7, 8, 9, 10, 11, 12, 13, 14, 15, 16, 17, 18, 19, 20, 21, 22, 23, 24, 25, 26, 27, 28, 29, 30, 31, 32, 33, 34, 35, 36, 37, 38, 39, 40, 41, 42, 43, 44, 45, 46, 47, 48, 51, 53, 54, 55, 56, 58, 59, 60, 61, 62, 64, 65, 66, 68, 69, 70, 71, 72, 73, 74, 75, 76, 77, 79, 80, 81, 82, 83, 85, 86, 87, 88, 89, 90, 91, 92, 93, 94, 95, 96, 97, 98, 99, 100}\n"
          ]
        },
        {
          "output_type": "execute_result",
          "data": {
            "text/plain": [
              "True"
            ]
          },
          "metadata": {},
          "execution_count": 13
        }
      ],
      "source": [
        "# Your code here\n",
        "triple_set = set3.union(set4,set5)\n",
        "twice_set = set1.union(set2)\n",
        "print(triple_set)\n",
        "print(twice_set)\n",
        "\n",
        "triple_set == twice_set"
      ]
    },
    {
      "cell_type": "markdown",
      "metadata": {
        "id": "rbDV6jj6ihdr"
      },
      "source": [
        "#### 13 -Using the `pop` method, remove the first element from `set1`."
      ]
    },
    {
      "cell_type": "code",
      "execution_count": 14,
      "metadata": {
        "colab": {
          "base_uri": "https://localhost:8080/"
        },
        "id": "Y59kd2OCihdr",
        "outputId": "0143d7af-ea15-46ef-c11c-bd37b81dadfa"
      },
      "outputs": [
        {
          "output_type": "stream",
          "name": "stdout",
          "text": [
            "{0, 1, 2, 3, 4, 5, 6, 7, 8, 9, 10, 11, 12, 13, 14, 15, 16, 17, 18, 19, 21, 22, 23, 24, 27, 28, 29, 31, 32, 33, 34, 36, 37, 38, 39, 40, 41, 42, 43, 44, 45, 46, 47, 48, 51, 53, 54, 55, 56, 58, 60, 61, 65, 66, 70, 71, 72, 73, 74, 75, 76, 77, 79, 81, 82, 85, 86, 87, 88, 89, 90, 91, 92, 94, 95, 96, 97, 98, 99, 100}\n",
            "{1, 2, 3, 4, 5, 6, 7, 8, 9, 10, 11, 12, 13, 14, 15, 16, 17, 18, 19, 21, 22, 23, 24, 27, 28, 29, 31, 32, 33, 34, 36, 37, 38, 39, 40, 41, 42, 43, 44, 45, 46, 47, 48, 51, 53, 54, 55, 56, 58, 60, 61, 65, 66, 70, 71, 72, 73, 74, 75, 76, 77, 79, 81, 82, 85, 86, 87, 88, 89, 90, 91, 92, 94, 95, 96, 97, 98, 99, 100}\n"
          ]
        }
      ],
      "source": [
        "# Your code here\n",
        "print(set1)\n",
        "\n",
        "set1.pop()\n",
        "print(set1)"
      ]
    },
    {
      "cell_type": "markdown",
      "metadata": {
        "id": "dUop52odihdr"
      },
      "source": [
        "#### 14 -Remove every element in the following list from `set1` if they are present in the set. Print the remaining elements.\n",
        "\n",
        "```\n",
        "list_to_remove = [1, 9, 11, 19, 21, 29, 31, 39, 41, 49, 51, 59, 61, 69, 71, 79, 81, 89, 91, 99]\n",
        "```"
      ]
    },
    {
      "cell_type": "code",
      "execution_count": 15,
      "metadata": {
        "colab": {
          "base_uri": "https://localhost:8080/"
        },
        "id": "k7D9O1TNihdr",
        "outputId": "a70400ac-a4a4-412f-c058-57ac57cbe2b1"
      },
      "outputs": [
        {
          "output_type": "stream",
          "name": "stdout",
          "text": [
            "{2, 3, 4, 5, 6, 7, 8, 10, 12, 13, 14, 15, 16, 17, 18, 22, 23, 24, 27, 28, 32, 33, 34, 36, 37, 38, 40, 42, 43, 44, 45, 46, 47, 48, 53, 54, 55, 56, 58, 60, 65, 66, 70, 72, 73, 74, 75, 76, 77, 82, 85, 86, 87, 88, 90, 92, 94, 95, 96, 97, 98, 100}\n"
          ]
        }
      ],
      "source": [
        "# Your code here\n",
        "list_to_remove = [1, 9, 11, 19, 21, 29, 31, 39, 41, 49, 51, 59, 61, 69, 71, 79, 81, 89, 91, 99]\n",
        "\n",
        "for item in list_to_remove:\n",
        "  if item in set1:\n",
        "    set1.remove(item)\n",
        "\n",
        "print(set1)\n"
      ]
    },
    {
      "cell_type": "markdown",
      "metadata": {
        "id": "G1LKQy9mihdr"
      },
      "source": [
        "#### 15 -The objective of this lab is to provide you a overview of manipulating sets in Python and how they can be integrated within a real usecase\n",
        "#### For the exercises below it's strongly advised to quickly check this link: https://docs.python.org/2/library/sets.html#sets.Set\n",
        "#### Imagine you need to create the grocery list for your family! Below you will see a list of items each family member wants. There will be repetitions because this family has the habbit of each time they notice something is missing to write it down. The problem is that they don't really talk to each other and therefore some items in the list are repeated. With the collection of questions below you will see how they solve repetion and create a grocery list with unique elements.\n",
        "\n"
      ]
    },
    {
      "cell_type": "code",
      "execution_count": 16,
      "metadata": {
        "id": "KCWdkqEdihdr"
      },
      "outputs": [],
      "source": [
        "father_list = ['garlic', 'watermelon', 'toilet paper', 'yogurt', 'onions', 'gums', 'flour', 'cucumber', 'watermelon', 'yogurt', 'garlic']\n",
        "\n",
        "mother_list = []\n",
        "\n",
        "Jo_list = ['blueberries', 'sugar', 'watermelon', 'gums', 'tomatoes', 'yogurt', 'juice', 'milk', 'onions', 'garlic', 'cucumber', 'sugar', 'blueberries', 'gums', 'yogurt']\n",
        "\n",
        "Carlos_list = ['tomatoes', 'water', 'onions', 'blueberries', 'garlic', 'flour', 'cherries', 'tomatoes', 'onions', 'water', 'tomatoes', 'toilet paper']\n",
        "\n",
        "Mattia_list = []\n",
        "\n",
        "\n"
      ]
    },
    {
      "cell_type": "markdown",
      "metadata": {
        "id": "SEiOm2-Vihdr"
      },
      "source": [
        "#### 15.1- As you can see there are items repeated in each list. Creat a sequence of iterable elements with dintinct items that each family member wants. You can do it in two different ways. Assign each one (set) to a variable with the name of the family member (ex: father_set)."
      ]
    },
    {
      "cell_type": "code",
      "execution_count": 17,
      "metadata": {
        "id": "JvGKoTOcihdr"
      },
      "outputs": [],
      "source": [
        "# Your code here\n",
        "father_set = set(father_list)\n",
        "mother_set = set(mother_list)\n",
        "Jo_set = set(Jo_list)\n",
        "Carlos_set = set(Carlos_list)\n",
        "Mattia_set = set(Mattia_list)"
      ]
    },
    {
      "cell_type": "markdown",
      "metadata": {
        "id": "DthViZBHihds"
      },
      "source": [
        "#### 15.2- Q: Mattia wants the same items that his brother Carlos and his sister Jo but doesn't want anything they both want.\n",
        "\n",
        "##### Hint: check out the documentation for `x.symmetric_difference(y)`."
      ]
    },
    {
      "cell_type": "code",
      "execution_count": 18,
      "metadata": {
        "colab": {
          "base_uri": "https://localhost:8080/"
        },
        "id": "Tqh9mNuKihds",
        "outputId": "422daa27-32cc-475c-a16c-71e8a7721aef"
      },
      "outputs": [
        {
          "output_type": "stream",
          "name": "stdout",
          "text": [
            "{'water', 'flour', 'cherries', 'watermelon', 'sugar', 'juice', 'toilet paper', 'milk', 'gums', 'cucumber', 'yogurt'}\n"
          ]
        }
      ],
      "source": [
        "# Your code here\n",
        "Mattia_set = Carlos_set.symmetric_difference(Jo_set)\n",
        "\n",
        "print(Mattia_set)"
      ]
    },
    {
      "cell_type": "markdown",
      "metadata": {
        "id": "KJiOPI2Fihds"
      },
      "source": [
        "#### 15.3- The line of code below  will  generate a list of random elements from a collection of items, with replacement. Run it and from it create a sequence of unique elements and assign it to the variable mother.\n"
      ]
    },
    {
      "cell_type": "code",
      "execution_count": 19,
      "metadata": {
        "colab": {
          "base_uri": "https://localhost:8080/"
        },
        "id": "EvigpuYxihds",
        "outputId": "06b63d28-db5a-4bb7-9992-6865a873f6c2"
      },
      "outputs": [
        {
          "output_type": "stream",
          "name": "stdout",
          "text": [
            "['blueberries', 'toilet paper', 'chocolate', 'chocolate', 'flour', 'watermelon', 'tomatoes', 'chocolate', 'milk', 'sugar']\n"
          ]
        }
      ],
      "source": [
        "import random\n",
        "items = ['milk', 'water', 'chocolate', 'blueberries', 'shampoo', 'flour', 'bread', 'sugar', 'watermelon', 'vinegar', 'tomatoes', 'yogurt', 'juice', 'gums', 'onions', 'garlic', 'cucumber', 'mushrooms', 'toilet paper', 'oranges', 'deodorant', 'cherries']\n",
        "\n",
        "mother_list = random.choices(items,k = 10) # https://docs.python.org/3/library/random.html\n",
        "\n",
        "print(mother_list)"
      ]
    },
    {
      "cell_type": "code",
      "execution_count": 20,
      "metadata": {
        "id": "NnVc9vpwihds"
      },
      "outputs": [],
      "source": [
        "# Your code here\n"
      ]
    },
    {
      "cell_type": "markdown",
      "metadata": {
        "id": "AE3e9opXihdw"
      },
      "source": [
        "#### 15.4- Before leaving the house to the grocery store the father found a lot of toilet paper, so the mother decided to remove it from the items needed to be bought. Use the `.discard()` method to remove from each set created before the 'toilet paper'.\n",
        "\n",
        "#### Hint: Try to first create a list contaning the variables of each set created before, then loop through them and remove the unecessary item.\n",
        "\n",
        "##### Note: The`.discard()` method will remove and update the set without the need of reassignment.\n",
        "\n"
      ]
    },
    {
      "cell_type": "code",
      "execution_count": 21,
      "metadata": {
        "colab": {
          "base_uri": "https://localhost:8080/"
        },
        "id": "9pJpx97Pihdx",
        "outputId": "a92fbd51-d466-413e-f112-5e7abee04b4a"
      },
      "outputs": [
        {
          "output_type": "stream",
          "name": "stdout",
          "text": [
            "{'water', 'blueberries', 'flour', 'cherries', 'tomatoes', 'onions', 'garlic'}\n",
            "['garlic', 'watermelon', 'toilet paper', 'yogurt', 'onions', 'gums', 'flour', 'cucumber', 'watermelon', 'yogurt', 'garlic']\n"
          ]
        }
      ],
      "source": [
        "# Your code here\n",
        "set_lists = [father_set, mother_set, Jo_set, Carlos_set, Mattia_set]\n",
        "\n",
        "for items in set_lists:\n",
        "  items.discard(\"toilet paper\")\n",
        "\n",
        "print(Carlos_set)\n",
        "print(father_list)"
      ]
    },
    {
      "cell_type": "markdown",
      "metadata": {
        "id": "0m_I8NcBihdx"
      },
      "source": [
        "#### 15.5- Create a set with all the groceries needed to be bought for the house (no repetitions)."
      ]
    },
    {
      "cell_type": "code",
      "execution_count": 26,
      "metadata": {
        "colab": {
          "base_uri": "https://localhost:8080/"
        },
        "id": "_-dweCrxihdx",
        "outputId": "0f7eee2f-b9b4-41bf-fb51-ebef09fcfe27"
      },
      "outputs": [
        {
          "output_type": "stream",
          "name": "stdout",
          "text": [
            "{'water', 'flour', 'blueberries', 'cherries', 'watermelon', 'tomatoes', 'sugar', 'toilet paper', 'onions', 'chocolate', 'juice', 'milk', 'gums', 'garlic', 'cucumber', 'yogurt'}\n"
          ]
        }
      ],
      "source": [
        "# Your code here\n",
        "groceries_list = father_list + mother_list + Jo_list + Carlos_list + Mattia_list\n",
        "\n",
        "groceries_set = set(groceries_list)\n",
        "\n",
        "print(groceries_set)\n"
      ]
    },
    {
      "cell_type": "markdown",
      "metadata": {
        "id": "FtcDBsV-ihdx"
      },
      "source": [
        "#### 15.6- The Father said that he could only buy five items this time. So he decided to arbitraly pick wich ones to buy this time.\n",
        "\n",
        "##### Hint: use the `.pop()` method."
      ]
    },
    {
      "cell_type": "code",
      "execution_count": 29,
      "metadata": {
        "id": "RsaEpqQMihdx"
      },
      "outputs": [],
      "source": [
        "# Your code here\n",
        "groceries_list = list(groceries_set)\n",
        "\n",
        "# Initialize an empty list for the Father's selected items\n",
        "father_selected_items = []\n",
        "\n",
        "# Randomly select five items using pop()\n",
        "for items in range(5):\n",
        "    if groceries_list:\n",
        "        selected_item = groceries_list.pop(random.randint(0, len(groceries_list) - 1))\n",
        "        father_selected_items.append(selected_item)"
      ]
    },
    {
      "cell_type": "code",
      "source": [
        "print(father_selected_items)"
      ],
      "metadata": {
        "colab": {
          "base_uri": "https://localhost:8080/"
        },
        "id": "N5bSGwbvv7oT",
        "outputId": "52fb712e-9aa8-4817-fe66-3ed06c1bef25"
      },
      "execution_count": 28,
      "outputs": [
        {
          "output_type": "stream",
          "name": "stdout",
          "text": [
            "['onions', 'garlic', 'cucumber', 'flour', 'water']\n"
          ]
        }
      ]
    },
    {
      "cell_type": "code",
      "source": [],
      "metadata": {
        "id": "S_HpkMZTwDbb"
      },
      "execution_count": null,
      "outputs": []
    }
  ],
  "metadata": {
    "kernelspec": {
      "display_name": "Python 3",
      "language": "python",
      "name": "python3"
    },
    "language_info": {
      "codemirror_mode": {
        "name": "ipython",
        "version": 3
      },
      "file_extension": ".py",
      "mimetype": "text/x-python",
      "name": "python",
      "nbconvert_exporter": "python",
      "pygments_lexer": "ipython3",
      "version": "3.11.4"
    },
    "colab": {
      "provenance": []
    }
  },
  "nbformat": 4,
  "nbformat_minor": 0
}